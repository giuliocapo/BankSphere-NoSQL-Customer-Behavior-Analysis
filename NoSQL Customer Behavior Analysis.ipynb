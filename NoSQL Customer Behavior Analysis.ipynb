{
 "cells": [
  {
   "cell_type": "code",
   "execution_count": null,
   "id": "e072408a-af5d-4c50-951f-ccb47aefb515",
   "metadata": {},
   "outputs": [],
   "source": [
    "!pip install pandas"
   ]
  },
  {
   "cell_type": "code",
   "execution_count": null,
   "id": "c754a5d3-8708-44a0-9837-8787aad79450",
   "metadata": {},
   "outputs": [],
   "source": [
    "import pymongo\n",
    "import pandas as pd\n",
    "import re\n",
    "import json\n",
    "from datetime import datetime"
   ]
  },
  {
   "cell_type": "code",
   "execution_count": null,
   "id": "8825f5dd-c37e-4ba1-89dd-1ee00baadab8",
   "metadata": {},
   "outputs": [],
   "source": [
    "client = pymongo.MongoClient('mongodb://localhost:27017')"
   ]
  },
  {
   "cell_type": "code",
   "execution_count": null,
   "id": "37e17245-c7b4-4318-838f-91a2a95bb578",
   "metadata": {},
   "outputs": [],
   "source": [
    "df = pd.read_csv(\"BankChurners.csv\")"
   ]
  },
  {
   "cell_type": "code",
   "execution_count": null,
   "id": "b572903e-9d9b-449a-b035-1484de87d133",
   "metadata": {},
   "outputs": [],
   "source": [
    "df.head()"
   ]
  },
  {
   "cell_type": "code",
   "execution_count": null,
   "id": "48f01f54-3d4c-4f76-9dcd-1c4756362e8b",
   "metadata": {},
   "outputs": [],
   "source": [
    "df.tail()"
   ]
  },
  {
   "cell_type": "code",
   "execution_count": null,
   "id": "b0bb5913-001b-4451-bc63-dbf3d4616829",
   "metadata": {},
   "outputs": [],
   "source": [
    "df.shape"
   ]
  },
  {
   "cell_type": "code",
   "execution_count": null,
   "id": "f5df9ae6-7b80-47a0-b678-646eec84d232",
   "metadata": {},
   "outputs": [],
   "source": [
    "# Splitting the DataFrame into customers_data and transactions_data\n",
    "customer_columns = [\"CLIENTNUM\", \"Customer_Age\", \"Gender\", \"Education_Level\", \"Marital_Status\", \"Income_Category\", \"Card_Category\"]\n",
    "transaction_columns = [\"CLIENTNUM\", \"Total_Trans_Amt\", \"Total_Revolving_Bal\", \"Credit_Limit\", \"Total_Amt_Chng_Q4_Q1\", \"Total_Ct_Chng_Q4_Q1\", \"Avg_Utilization_Ratio\"]\n",
    "\n",
    "customers_data = df[customer_columns]\n",
    "transactions_data = df[transaction_columns]\n"
   ]
  },
  {
   "cell_type": "code",
   "execution_count": null,
   "id": "5e9680b1-6786-446b-9252-df73905460c5",
   "metadata": {},
   "outputs": [],
   "source": [
    "client = pymongo.MongoClient('mongodb://localhost:27017/')\n",
    "db = client['BankChurners']\n",
    "\n",
    "# Check if the collection exists and drop it if it does\n",
    "if \"customers\" in db.list_collection_names():\n",
    "    db.customers.drop()\n",
    "    \n",
    "# Create collections with schema validation\n",
    "db.create_collection(\"customers\", validator={\n",
    "    \"$jsonSchema\": {\n",
    "        \"bsonType\": \"object\",\n",
    "        \"required\": [\"CLIENTNUM\"],\n",
    "        \"properties\": {\n",
    "            \"CLIENTNUM\": {\n",
    "                \"bsonType\": \"int\",\n",
    "                \"description\": \"must be a int and is required\"\n",
    "            },\n",
    "            \"Customer_Age\": {\n",
    "                \"bsonType\": \"int\",\n",
    "                \"description\": \"must be an integer\"\n",
    "            },\n",
    "            \"Gender\": {\n",
    "                \"bsonType\": \"string\"\n",
    "            },\n",
    "            \"Education_Level\": {\n",
    "                \"bsonType\": \"string\"\n",
    "            },\n",
    "            \"Marital_Status\": {\n",
    "                \"bsonType\": \"string\"\n",
    "            },\n",
    "            \"Income_Category\": {\n",
    "                \"bsonType\": \"string\"\n",
    "            },\n",
    "            \"Card_Category\": {\n",
    "                \"bsonType\": \"string\"\n",
    "            }\n",
    "        }\n",
    "    }\n",
    "})\n",
    "\n",
    "# Repeat for transactions collection\n",
    "if \"transactions\" in db.list_collection_names():\n",
    "    db.transactions.drop()\n",
    "\n",
    "db.create_collection(\"transactions\", validator={\n",
    "    \"$jsonSchema\": {\n",
    "        \"bsonType\": \"object\",\n",
    "        \"required\": [\"CLIENTNUM\"],\n",
    "        \"properties\": {\n",
    "            \"CLIENTNUM\": {\n",
    "                \"bsonType\": \"int\",\n",
    "                \"description\": \"must be a int and is required\"\n",
    "            },\n",
    "            \"Total_Trans_Amt\": {\n",
    "                \"bsonType\": \"double\"\n",
    "            },\n",
    "            \"Total_Trans_Ct\": {\n",
    "                \"bsonType\": \"double\"\n",
    "            },\n",
    "            \"Total_Amt_Chng_Q4_Q1\": {\n",
    "                \"bsonType\": \"double\"\n",
    "            },\n",
    "            \"Total_Ct_Chng_Q4_Q1\": {\n",
    "                \"bsonType\": \"double\"\n",
    "            },\n",
    "            \"Avg_Utilization_Ratio\": {\n",
    "                \"bsonType\": \"double\"\n",
    "            },\n",
    "            \"Credit_Limit\": {\n",
    "                \"bsonType\": \"double\"\n",
    "            },\n",
    "            \"Total_Revolving_Bal\": {\n",
    "                \"bsonType\": \"double\"\n",
    "            }\n",
    "        }\n",
    "    }\n",
    "})\n"
   ]
  },
  {
   "cell_type": "code",
   "execution_count": null,
   "id": "626e30c2-c17a-4185-ad80-1010ad0bfc88",
   "metadata": {},
   "outputs": [],
   "source": [
    "# Assuming transactions_data is a DataFrame slice, apply changes using .loc to ensure changes are done in place\n",
    "\n"
   ]
  },
  {
   "cell_type": "code",
   "execution_count": null,
   "id": "959126cb-71b1-430a-9a33-bd79be9447bd",
   "metadata": {},
   "outputs": [],
   "source": [
    "# Ensure the data is in the correct format\n",
    "customers_dict = customers_data.to_dict('records')\n",
    "transactions_dict = transactions_data.to_dict('records')\n",
    "\n",
    "# Attempt to insert data into MongoDB\n",
    "try:\n",
    "    db.customers.delete_many({})  # Clear existing data if necessary\n",
    "    db.transactions.delete_many({})\n",
    "    \n",
    "    db.customers.insert_many(customers_dict)\n",
    "    db.transactions.insert_many(transactions_dict)\n",
    "    print(\"Data inserted successfully\")\n",
    "except Exception as e:\n",
    "    print(f\"An error occurred during insertion: {e}\")\n"
   ]
  },
  {
   "cell_type": "code",
   "execution_count": null,
   "id": "3a384083-2e62-49ed-af94-b101615c2455",
   "metadata": {},
   "outputs": [],
   "source": [
    "# Fetch and print data to verify\n",
    "print(list(db.customers.find().limit(5)))\n",
    "print(list(db.transactions.find().limit(5)))\n"
   ]
  },
  {
   "cell_type": "code",
   "execution_count": null,
   "id": "5be26dc0-92f7-4c2f-801b-5c7097004b0d",
   "metadata": {},
   "outputs": [],
   "source": []
  },
  {
   "cell_type": "code",
   "execution_count": null,
   "id": "de046113-0f4f-4fea-88a7-f665889aa8c8",
   "metadata": {},
   "outputs": [],
   "source": []
  },
  {
   "cell_type": "code",
   "execution_count": null,
   "id": "b8059ec6-ed4a-4ad9-8920-e7dc899c08e1",
   "metadata": {},
   "outputs": [],
   "source": []
  },
  {
   "cell_type": "code",
   "execution_count": null,
   "id": "e2613927-b431-4858-a895-250c00d414d8",
   "metadata": {},
   "outputs": [],
   "source": []
  },
  {
   "cell_type": "code",
   "execution_count": null,
   "id": "d8794305-205f-43b6-a2cd-8e5f12c1a1ba",
   "metadata": {},
   "outputs": [],
   "source": []
  }
 ],
 "metadata": {
  "kernelspec": {
   "display_name": "Python 3 (ipykernel)",
   "language": "python",
   "name": "python3"
  },
  "language_info": {
   "codemirror_mode": {
    "name": "ipython",
    "version": 3
   },
   "file_extension": ".py",
   "mimetype": "text/x-python",
   "name": "python",
   "nbconvert_exporter": "python",
   "pygments_lexer": "ipython3",
   "version": "3.13.1"
  }
 },
 "nbformat": 4,
 "nbformat_minor": 5
}
